{
 "cells": [
  {
   "cell_type": "code",
   "execution_count": 2,
   "id": "95e38227",
   "metadata": {
    "pycharm": {
     "name": "#%%\n"
    }
   },
   "outputs": [],
   "source": [
    "import pandas as pd\n",
    "import time\n",
    "\n",
    "from source_prepare import txt_to_dict, dict_to_df, get_question_index\n",
    "from question_answer import ask_question, ans_process"
   ]
  },
  {
   "cell_type": "code",
   "execution_count": 3,
   "id": "539d0297",
   "metadata": {
    "pycharm": {
     "name": "#%%\n"
    }
   },
   "outputs": [],
   "source": [
    "data = txt_to_dict('test_01.txt')"
   ]
  },
  {
   "cell_type": "code",
   "execution_count": 4,
   "id": "3bdb3d53",
   "metadata": {
    "pycharm": {
     "name": "#%%\n"
    }
   },
   "outputs": [],
   "source": [
    "df = dict_to_df(data)"
   ]
  },
  {
   "cell_type": "code",
   "execution_count": 5,
   "outputs": [
    {
     "data": {
      "text/plain": "                                            question  \\\n168  168. შემოხაზეთ სწორი პასუხი:\\n..... არის ლიფტი?   \n\n                                choices  correct  statistics  times_answered  \\\n168  [1.სად?, 2.რას?, 3.როდის?, 4.ვინ?]        1           0               0   \n\n     times_correct_answered  \n168                       0  ",
      "text/html": "<div>\n<style scoped>\n    .dataframe tbody tr th:only-of-type {\n        vertical-align: middle;\n    }\n\n    .dataframe tbody tr th {\n        vertical-align: top;\n    }\n\n    .dataframe thead th {\n        text-align: right;\n    }\n</style>\n<table border=\"1\" class=\"dataframe\">\n  <thead>\n    <tr style=\"text-align: right;\">\n      <th></th>\n      <th>question</th>\n      <th>choices</th>\n      <th>correct</th>\n      <th>statistics</th>\n      <th>times_answered</th>\n      <th>times_correct_answered</th>\n    </tr>\n  </thead>\n  <tbody>\n    <tr>\n      <th>168</th>\n      <td>168. შემოხაზეთ სწორი პასუხი:\\n..... არის ლიფტი?</td>\n      <td>[1.სად?, 2.რას?, 3.როდის?, 4.ვინ?]</td>\n      <td>1</td>\n      <td>0</td>\n      <td>0</td>\n      <td>0</td>\n    </tr>\n  </tbody>\n</table>\n</div>"
     },
     "execution_count": 5,
     "metadata": {},
     "output_type": "execute_result"
    }
   ],
   "source": [
    "df.sample()"
   ],
   "metadata": {
    "collapsed": false,
    "pycharm": {
     "name": "#%%\n"
    }
   }
  },
  {
   "cell_type": "code",
   "execution_count": 32,
   "outputs": [
    {
     "data": {
      "text/plain": "question                  106. ნინო უფრო მაღალია, ვიდრე ნანა.\\nშემოხაზეთ...\nchoices                   [1.ნინო ნანაზე მაღალია;, 2.ნანა მაღალია, ნინო ...\ncorrect                                                                   1\nstatistics                                                                0\ntimes_answered                                                            0\ntimes_correct_answered                                                    0\nName: 106, dtype: object"
     },
     "execution_count": 32,
     "metadata": {},
     "output_type": "execute_result"
    }
   ],
   "source": [
    "df.loc[106]"
   ],
   "metadata": {
    "collapsed": false,
    "pycharm": {
     "name": "#%%\n"
    }
   }
  },
  {
   "cell_type": "code",
   "execution_count": 117,
   "outputs": [
    {
     "ename": "AttributeError",
     "evalue": "'DataFrame' object has no attribute 'ix'",
     "output_type": "error",
     "traceback": [
      "\u001B[1;31m---------------------------------------------------------------------------\u001B[0m",
      "\u001B[1;31mAttributeError\u001B[0m                            Traceback (most recent call last)",
      "Input \u001B[1;32mIn [117]\u001B[0m, in \u001B[0;36m<cell line: 1>\u001B[1;34m()\u001B[0m\n\u001B[1;32m----> 1\u001B[0m \u001B[38;5;28;01mfor\u001B[39;00m i, ch \u001B[38;5;129;01min\u001B[39;00m \u001B[38;5;28menumerate\u001B[39m(\u001B[43mdf\u001B[49m\u001B[38;5;241;43m.\u001B[39;49m\u001B[43mix\u001B[49m[\u001B[38;5;241m101\u001B[39m][\u001B[38;5;124m'\u001B[39m\u001B[38;5;124mchoices\u001B[39m\u001B[38;5;124m'\u001B[39m]\u001B[38;5;241m.\u001B[39miloc[\u001B[38;5;241m0\u001B[39m]):\n\u001B[0;32m      2\u001B[0m     markup_values[ch] \u001B[38;5;241m=\u001B[39m {\u001B[38;5;124m'\u001B[39m\u001B[38;5;124mcallback_data\u001B[39m\u001B[38;5;124m'\u001B[39m: i \u001B[38;5;241m+\u001B[39m \u001B[38;5;241m1\u001B[39m}\n",
      "File \u001B[1;32mc:\\users\\79017\\appdata\\local\\programs\\python\\python39\\lib\\site-packages\\pandas\\core\\generic.py:5575\u001B[0m, in \u001B[0;36mNDFrame.__getattr__\u001B[1;34m(self, name)\u001B[0m\n\u001B[0;32m   5568\u001B[0m \u001B[38;5;28;01mif\u001B[39;00m (\n\u001B[0;32m   5569\u001B[0m     name \u001B[38;5;129;01mnot\u001B[39;00m \u001B[38;5;129;01min\u001B[39;00m \u001B[38;5;28mself\u001B[39m\u001B[38;5;241m.\u001B[39m_internal_names_set\n\u001B[0;32m   5570\u001B[0m     \u001B[38;5;129;01mand\u001B[39;00m name \u001B[38;5;129;01mnot\u001B[39;00m \u001B[38;5;129;01min\u001B[39;00m \u001B[38;5;28mself\u001B[39m\u001B[38;5;241m.\u001B[39m_metadata\n\u001B[0;32m   5571\u001B[0m     \u001B[38;5;129;01mand\u001B[39;00m name \u001B[38;5;129;01mnot\u001B[39;00m \u001B[38;5;129;01min\u001B[39;00m \u001B[38;5;28mself\u001B[39m\u001B[38;5;241m.\u001B[39m_accessors\n\u001B[0;32m   5572\u001B[0m     \u001B[38;5;129;01mand\u001B[39;00m \u001B[38;5;28mself\u001B[39m\u001B[38;5;241m.\u001B[39m_info_axis\u001B[38;5;241m.\u001B[39m_can_hold_identifiers_and_holds_name(name)\n\u001B[0;32m   5573\u001B[0m ):\n\u001B[0;32m   5574\u001B[0m     \u001B[38;5;28;01mreturn\u001B[39;00m \u001B[38;5;28mself\u001B[39m[name]\n\u001B[1;32m-> 5575\u001B[0m \u001B[38;5;28;01mreturn\u001B[39;00m \u001B[38;5;28;43mobject\u001B[39;49m\u001B[38;5;241;43m.\u001B[39;49m\u001B[38;5;21;43m__getattribute__\u001B[39;49m\u001B[43m(\u001B[49m\u001B[38;5;28;43mself\u001B[39;49m\u001B[43m,\u001B[49m\u001B[43m \u001B[49m\u001B[43mname\u001B[49m\u001B[43m)\u001B[49m\n",
      "\u001B[1;31mAttributeError\u001B[0m: 'DataFrame' object has no attribute 'ix'"
     ]
    }
   ],
   "source": [
    "for i, ch in enumerate(df.ix[101]['choices'].iloc[0]):\n",
    "    markup_values[ch] = {'callback_data': i + 1}"
   ],
   "metadata": {
    "collapsed": false,
    "pycharm": {
     "name": "#%%\n"
    }
   }
  },
  {
   "cell_type": "code",
   "execution_count": 120,
   "outputs": [
    {
     "data": {
      "text/plain": "Int64Index([101], dtype='int64')"
     },
     "execution_count": 120,
     "metadata": {},
     "output_type": "execute_result"
    }
   ],
   "source": [
    "pd.Index([101])"
   ],
   "metadata": {
    "collapsed": false,
    "pycharm": {
     "name": "#%%\n"
    }
   }
  },
  {
   "cell_type": "code",
   "execution_count": 127,
   "outputs": [
    {
     "data": {
      "text/plain": "'1.საფულე დევს ჩანთასავით;'"
     },
     "execution_count": 127,
     "metadata": {},
     "output_type": "execute_result"
    }
   ],
   "source": [
    "df.loc[index, 'choices'].iloc[0][0]"
   ],
   "metadata": {
    "collapsed": false,
    "pycharm": {
     "name": "#%%\n"
    }
   }
  },
  {
   "cell_type": "code",
   "execution_count": 114,
   "outputs": [
    {
     "data": {
      "text/plain": "101    79\n171    47\n108    46\n196    43\n150    41\n       ..\n154     7\n43      7\n87      6\n173     6\n172     6\nName: choices, Length: 209, dtype: int64"
     },
     "execution_count": 114,
     "metadata": {},
     "output_type": "execute_result"
    }
   ],
   "source": [
    "df.choices.apply(lambda x: len(max(x, key=len))).sort_values(ascending=False)"
   ],
   "metadata": {
    "collapsed": false,
    "pycharm": {
     "name": "#%%\n"
    }
   }
  },
  {
   "cell_type": "code",
   "execution_count": 39,
   "id": "1da84846",
   "metadata": {
    "pycharm": {
     "name": "#%%\n"
    }
   },
   "outputs": [],
   "source": [
    "index = get_question_index(df)"
   ]
  },
  {
   "cell_type": "code",
   "execution_count": 108,
   "outputs": [
    {
     "data": {
      "text/plain": "Int64Index([6], dtype='int64')"
     },
     "execution_count": 108,
     "metadata": {},
     "output_type": "execute_result"
    }
   ],
   "source": [
    "index"
   ],
   "metadata": {
    "collapsed": false,
    "pycharm": {
     "name": "#%%\n"
    }
   }
  },
  {
   "cell_type": "code",
   "execution_count": 106,
   "outputs": [
    {
     "data": {
      "text/plain": "question                  209. შემოხაზეთ სწორი პასუხი:\\nდღეს ვიყიდე ერთი...\nchoices                               [1.ცალი;, 2.ქილა;, 3.წონა;, 4.ჩანთა.]\ncorrect                                                                   2\nstatistics                                                                0\ntimes_answered                                                            0\ntimes_correct_answered                                                    0\nName: 209, dtype: object"
     },
     "execution_count": 106,
     "metadata": {},
     "output_type": "execute_result"
    }
   ],
   "source": [
    "df.iloc[208,0:]"
   ],
   "metadata": {
    "collapsed": false,
    "pycharm": {
     "name": "#%%\n"
    }
   }
  },
  {
   "cell_type": "code",
   "execution_count": 92,
   "id": "c4d8df95",
   "metadata": {
    "pycharm": {
     "name": "#%%\n"
    }
   },
   "outputs": [
    {
     "data": {
      "text/html": [
       "<div>\n",
       "<style scoped>\n",
       "    .dataframe tbody tr th:only-of-type {\n",
       "        vertical-align: middle;\n",
       "    }\n",
       "\n",
       "    .dataframe tbody tr th {\n",
       "        vertical-align: top;\n",
       "    }\n",
       "\n",
       "    .dataframe thead th {\n",
       "        text-align: right;\n",
       "    }\n",
       "</style>\n",
       "<table border=\"1\" class=\"dataframe\">\n",
       "  <thead>\n",
       "    <tr style=\"text-align: right;\">\n",
       "      <th></th>\n",
       "      <th>question</th>\n",
       "      <th>choices</th>\n",
       "      <th>correct</th>\n",
       "      <th>statistics</th>\n",
       "      <th>times_answered</th>\n",
       "      <th>times_correct_answered</th>\n",
       "    </tr>\n",
       "  </thead>\n",
       "  <tbody>\n",
       "    <tr>\n",
       "      <th>84</th>\n",
       "      <td>84. შემოხაზეთ სწორი პასუხი:\\nეს ოთახი არის ნან...</td>\n",
       "      <td>[1.დედამისი;, 2.დედაჩემის;, 3.დედამისის;, 4.დე...</td>\n",
       "      <td>3</td>\n",
       "      <td>0.0</td>\n",
       "      <td>0</td>\n",
       "      <td>0</td>\n",
       "    </tr>\n",
       "  </tbody>\n",
       "</table>\n",
       "</div>"
      ],
      "text/plain": [
       "                                             question  \\\n",
       "84  84. შემოხაზეთ სწორი პასუხი:\\nეს ოთახი არის ნან...   \n",
       "\n",
       "                                              choices  correct  statistics  \\\n",
       "84  [1.დედამისი;, 2.დედაჩემის;, 3.დედამისის;, 4.დე...        3         0.0   \n",
       "\n",
       "    times_answered  times_correct_answered  \n",
       "84               0                       0  "
      ]
     },
     "execution_count": 92,
     "metadata": {},
     "output_type": "execute_result"
    }
   ],
   "source": [
    "df.loc[index]"
   ]
  },
  {
   "cell_type": "code",
   "execution_count": 96,
   "id": "f36130d9",
   "metadata": {
    "pycharm": {
     "name": "#%%\n"
    }
   },
   "outputs": [
    {
     "name": "stdout",
     "output_type": "stream",
     "text": [
      "84. შემოხაზეთ სწორი პასუხი:\n",
      "ეს ოთახი არის ნანას დედის.\n",
      "1.დედამისი;\n",
      "2.დედაჩემის;\n",
      "3.დედამისის;\n",
      "4.დედათქვენის.\n",
      "GOOD! correct_answer\n"
     ]
    }
   ],
   "source": [
    "result = ask_question(df, index)\n",
    "ans_process(df, index, result)"
   ]
  },
  {
   "cell_type": "code",
   "execution_count": 97,
   "id": "4d7c3ef5",
   "metadata": {
    "pycharm": {
     "name": "#%%\n"
    }
   },
   "outputs": [
    {
     "data": {
      "text/html": [
       "<div>\n",
       "<style scoped>\n",
       "    .dataframe tbody tr th:only-of-type {\n",
       "        vertical-align: middle;\n",
       "    }\n",
       "\n",
       "    .dataframe tbody tr th {\n",
       "        vertical-align: top;\n",
       "    }\n",
       "\n",
       "    .dataframe thead th {\n",
       "        text-align: right;\n",
       "    }\n",
       "</style>\n",
       "<table border=\"1\" class=\"dataframe\">\n",
       "  <thead>\n",
       "    <tr style=\"text-align: right;\">\n",
       "      <th></th>\n",
       "      <th>question</th>\n",
       "      <th>choices</th>\n",
       "      <th>correct</th>\n",
       "      <th>statistics</th>\n",
       "      <th>times_answered</th>\n",
       "      <th>times_correct_answered</th>\n",
       "    </tr>\n",
       "  </thead>\n",
       "  <tbody>\n",
       "    <tr>\n",
       "      <th>84</th>\n",
       "      <td>84. შემოხაზეთ სწორი პასუხი:\\nეს ოთახი არის ნან...</td>\n",
       "      <td>[1.დედამისი;, 2.დედაჩემის;, 3.დედამისის;, 4.დე...</td>\n",
       "      <td>3</td>\n",
       "      <td>1.0</td>\n",
       "      <td>2</td>\n",
       "      <td>2</td>\n",
       "    </tr>\n",
       "  </tbody>\n",
       "</table>\n",
       "</div>"
      ],
      "text/plain": [
       "                                             question  \\\n",
       "84  84. შემოხაზეთ სწორი პასუხი:\\nეს ოთახი არის ნან...   \n",
       "\n",
       "                                              choices  correct  statistics  \\\n",
       "84  [1.დედამისი;, 2.დედაჩემის;, 3.დედამისის;, 4.დე...        3         1.0   \n",
       "\n",
       "    times_answered  times_correct_answered  \n",
       "84               2                       2  "
      ]
     },
     "execution_count": 97,
     "metadata": {},
     "output_type": "execute_result"
    }
   ],
   "source": [
    "df.loc[index]"
   ]
  },
  {
   "cell_type": "code",
   "execution_count": 58,
   "id": "6ba56126",
   "metadata": {
    "pycharm": {
     "name": "#%%\n"
    }
   },
   "outputs": [],
   "source": [
    "df.to_parquet('db_backup.parquet')"
   ]
  },
  {
   "cell_type": "code",
   "execution_count": 11,
   "id": "31de2db7",
   "metadata": {
    "pycharm": {
     "name": "#%%\n"
    }
   },
   "outputs": [],
   "source": [
    "df = pd.read_parquet('db.parquet')"
   ]
  },
  {
   "cell_type": "code",
   "execution_count": 9,
   "id": "86ad6854",
   "metadata": {
    "pycharm": {
     "name": "#%%\n"
    }
   },
   "outputs": [],
   "source": [
    "df.to_parquet('db.parquet')"
   ]
  },
  {
   "cell_type": "code",
   "execution_count": 21,
   "id": "1cc5f47f",
   "metadata": {
    "pycharm": {
     "name": "#%%\n"
    }
   },
   "outputs": [],
   "source": [
    "a= 1536"
   ]
  },
  {
   "cell_type": "code",
   "execution_count": 29,
   "outputs": [],
   "source": [
    "def sef():\n",
    "    a=a+2"
   ],
   "metadata": {
    "collapsed": false,
    "pycharm": {
     "name": "#%%\n"
    }
   }
  },
  {
   "cell_type": "code",
   "execution_count": 30,
   "outputs": [],
   "source": [
    "sef(a)"
   ],
   "metadata": {
    "collapsed": false,
    "pycharm": {
     "name": "#%%\n"
    }
   }
  },
  {
   "cell_type": "code",
   "execution_count": 31,
   "outputs": [
    {
     "data": {
      "text/plain": "1536"
     },
     "execution_count": 31,
     "metadata": {},
     "output_type": "execute_result"
    }
   ],
   "source": [
    "a"
   ],
   "metadata": {
    "collapsed": false,
    "pycharm": {
     "name": "#%%\n"
    }
   }
  },
  {
   "cell_type": "code",
   "execution_count": 31,
   "outputs": [],
   "source": [],
   "metadata": {
    "collapsed": false,
    "pycharm": {
     "name": "#%%\n"
    }
   }
  },
  {
   "cell_type": "code",
   "execution_count": 33,
   "outputs": [],
   "source": [
    "import sqlite3"
   ],
   "metadata": {
    "collapsed": false,
    "pycharm": {
     "name": "#%%\n"
    }
   }
  },
  {
   "cell_type": "code",
   "execution_count": 35,
   "outputs": [],
   "source": [
    "conn = sqlite3.connect('sq3_db.sql')\n",
    "cur = conn.cursor()\n",
    "\n",
    "d_check = pd.read_sql_query('SELECT *'\n",
    "            'FROM users', conn)\n",
    "'''cur.execute('SELECT *'\n",
    "            'FROM users')'''\n",
    "conn.commit()\n",
    "cur.close()\n",
    "conn.close()"
   ],
   "metadata": {
    "collapsed": false,
    "pycharm": {
     "name": "#%%\n"
    }
   }
  },
  {
   "cell_type": "code",
   "execution_count": 36,
   "outputs": [
    {
     "data": {
      "text/plain": "Empty DataFrame\nColumns: [id, name, pass]\nIndex: []",
      "text/html": "<div>\n<style scoped>\n    .dataframe tbody tr th:only-of-type {\n        vertical-align: middle;\n    }\n\n    .dataframe tbody tr th {\n        vertical-align: top;\n    }\n\n    .dataframe thead th {\n        text-align: right;\n    }\n</style>\n<table border=\"1\" class=\"dataframe\">\n  <thead>\n    <tr style=\"text-align: right;\">\n      <th></th>\n      <th>id</th>\n      <th>name</th>\n      <th>pass</th>\n    </tr>\n  </thead>\n  <tbody>\n  </tbody>\n</table>\n</div>"
     },
     "execution_count": 36,
     "metadata": {},
     "output_type": "execute_result"
    }
   ],
   "source": [
    "d_check"
   ],
   "metadata": {
    "collapsed": false,
    "pycharm": {
     "name": "#%%\n"
    }
   }
  },
  {
   "cell_type": "code",
   "execution_count": 43,
   "outputs": [
    {
     "data": {
      "text/plain": "0"
     },
     "execution_count": 43,
     "metadata": {},
     "output_type": "execute_result"
    }
   ],
   "source": [
    "df.loc[index, \"times_correct_answered\"].iloc[0]"
   ],
   "metadata": {
    "collapsed": false,
    "pycharm": {
     "name": "#%%\n"
    }
   }
  },
  {
   "cell_type": "code",
   "execution_count": 41,
   "outputs": [
    {
     "data": {
      "text/plain": "                     question  \\\n1  1. შემოხაზეთ სწორი პასუხი:   \n2  2. შემოხაზეთ სწორი პასუხი:   \n3  3. შემოხაზეთ სწორი პასუხი:   \n4  4. შემოხაზეთ სწორი პასუხი:   \n5  5. შემოხაზეთ სწორი პასუხი:   \n\n                                             choices  correct  statistics  \\\n1  [1.მე ცუდად ვსაუბრობ ქართული;, 2.მე ცუდად ვსაუ...        3           0   \n2  [1.მე ვხატავ სურათს;, 2.მე ვხატავ სურათმ;, 3.მ...        1           0   \n3  [1.მე დამიძახა ამხანაგს;, 2.მე დამიძახა ამხანა...        2           0   \n4  [1.შენ ხარ ექიმმა;, 2.შენ ხარ ექიმით;, 3.შენ ხ...        3           0   \n5  [1.თქვენ უყურებთ ფეხბურთმა;, 2.თქვენ უყურებთ ფ...        2           0   \n\n   times_answered  times_correct_answered  \n1               0                       0  \n2               0                       0  \n3               0                       0  \n4               0                       0  \n5               0                       0  ",
      "text/html": "<div>\n<style scoped>\n    .dataframe tbody tr th:only-of-type {\n        vertical-align: middle;\n    }\n\n    .dataframe tbody tr th {\n        vertical-align: top;\n    }\n\n    .dataframe thead th {\n        text-align: right;\n    }\n</style>\n<table border=\"1\" class=\"dataframe\">\n  <thead>\n    <tr style=\"text-align: right;\">\n      <th></th>\n      <th>question</th>\n      <th>choices</th>\n      <th>correct</th>\n      <th>statistics</th>\n      <th>times_answered</th>\n      <th>times_correct_answered</th>\n    </tr>\n  </thead>\n  <tbody>\n    <tr>\n      <th>1</th>\n      <td>1. შემოხაზეთ სწორი პასუხი:</td>\n      <td>[1.მე ცუდად ვსაუბრობ ქართული;, 2.მე ცუდად ვსაუ...</td>\n      <td>3</td>\n      <td>0</td>\n      <td>0</td>\n      <td>0</td>\n    </tr>\n    <tr>\n      <th>2</th>\n      <td>2. შემოხაზეთ სწორი პასუხი:</td>\n      <td>[1.მე ვხატავ სურათს;, 2.მე ვხატავ სურათმ;, 3.მ...</td>\n      <td>1</td>\n      <td>0</td>\n      <td>0</td>\n      <td>0</td>\n    </tr>\n    <tr>\n      <th>3</th>\n      <td>3. შემოხაზეთ სწორი პასუხი:</td>\n      <td>[1.მე დამიძახა ამხანაგს;, 2.მე დამიძახა ამხანა...</td>\n      <td>2</td>\n      <td>0</td>\n      <td>0</td>\n      <td>0</td>\n    </tr>\n    <tr>\n      <th>4</th>\n      <td>4. შემოხაზეთ სწორი პასუხი:</td>\n      <td>[1.შენ ხარ ექიმმა;, 2.შენ ხარ ექიმით;, 3.შენ ხ...</td>\n      <td>3</td>\n      <td>0</td>\n      <td>0</td>\n      <td>0</td>\n    </tr>\n    <tr>\n      <th>5</th>\n      <td>5. შემოხაზეთ სწორი პასუხი:</td>\n      <td>[1.თქვენ უყურებთ ფეხბურთმა;, 2.თქვენ უყურებთ ფ...</td>\n      <td>2</td>\n      <td>0</td>\n      <td>0</td>\n      <td>0</td>\n    </tr>\n  </tbody>\n</table>\n</div>"
     },
     "execution_count": 41,
     "metadata": {},
     "output_type": "execute_result"
    }
   ],
   "source": [
    "df.head()"
   ],
   "metadata": {
    "collapsed": false,
    "pycharm": {
     "name": "#%%\n"
    }
   }
  },
  {
   "cell_type": "code",
   "execution_count": null,
   "outputs": [],
   "source": [],
   "metadata": {
    "collapsed": false,
    "pycharm": {
     "name": "#%%\n"
    }
   }
  }
 ],
 "metadata": {
  "kernelspec": {
   "display_name": "Python 3 (ipykernel)",
   "language": "python",
   "name": "python3"
  },
  "language_info": {
   "codemirror_mode": {
    "name": "ipython",
    "version": 3
   },
   "file_extension": ".py",
   "mimetype": "text/x-python",
   "name": "python",
   "nbconvert_exporter": "python",
   "pygments_lexer": "ipython3",
   "version": "3.9.1"
  }
 },
 "nbformat": 4,
 "nbformat_minor": 5
}