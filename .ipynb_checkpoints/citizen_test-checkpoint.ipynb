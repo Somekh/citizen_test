{
 "cells": [
  {
   "cell_type": "code",
   "execution_count": 72,
   "id": "95e38227",
   "metadata": {
    "pycharm": {
     "name": "#%%\n"
    }
   },
   "outputs": [],
   "source": [
    "import pandas as pd\n",
    "import time\n",
    "\n",
    "from source_prepare import txt_to_dict, dict_to_df, get_question_index\n",
    "from question_answer import ask_question, ans_process"
   ]
  },
  {
   "cell_type": "code",
   "execution_count": 64,
   "id": "539d0297",
   "metadata": {
    "pycharm": {
     "name": "#%%\n"
    }
   },
   "outputs": [],
   "source": [
    "data = txt_to_dict('test_01.txt')"
   ]
  },
  {
   "cell_type": "code",
   "execution_count": 65,
   "id": "3bdb3d53",
   "metadata": {
    "pycharm": {
     "name": "#%%\n"
    }
   },
   "outputs": [],
   "source": [
    "df = dict_to_df(data)"
   ]
  },
  {
   "cell_type": "code",
   "execution_count": 91,
   "id": "1da84846",
   "metadata": {
    "pycharm": {
     "name": "#%%\n"
    }
   },
   "outputs": [],
   "source": [
    "index = get_question_index(df)"
   ]
  },
  {
   "cell_type": "code",
   "execution_count": 92,
   "id": "c4d8df95",
   "metadata": {
    "pycharm": {
     "name": "#%%\n"
    }
   },
   "outputs": [
    {
     "data": {
      "text/html": [
       "<div>\n",
       "<style scoped>\n",
       "    .dataframe tbody tr th:only-of-type {\n",
       "        vertical-align: middle;\n",
       "    }\n",
       "\n",
       "    .dataframe tbody tr th {\n",
       "        vertical-align: top;\n",
       "    }\n",
       "\n",
       "    .dataframe thead th {\n",
       "        text-align: right;\n",
       "    }\n",
       "</style>\n",
       "<table border=\"1\" class=\"dataframe\">\n",
       "  <thead>\n",
       "    <tr style=\"text-align: right;\">\n",
       "      <th></th>\n",
       "      <th>question</th>\n",
       "      <th>choices</th>\n",
       "      <th>correct</th>\n",
       "      <th>statistics</th>\n",
       "      <th>times_answered</th>\n",
       "      <th>times_correct_answered</th>\n",
       "    </tr>\n",
       "  </thead>\n",
       "  <tbody>\n",
       "    <tr>\n",
       "      <th>84</th>\n",
       "      <td>84. შემოხაზეთ სწორი პასუხი:\\nეს ოთახი არის ნან...</td>\n",
       "      <td>[1.დედამისი;, 2.დედაჩემის;, 3.დედამისის;, 4.დე...</td>\n",
       "      <td>3</td>\n",
       "      <td>0.0</td>\n",
       "      <td>0</td>\n",
       "      <td>0</td>\n",
       "    </tr>\n",
       "  </tbody>\n",
       "</table>\n",
       "</div>"
      ],
      "text/plain": [
       "                                             question  \\\n",
       "84  84. შემოხაზეთ სწორი პასუხი:\\nეს ოთახი არის ნან...   \n",
       "\n",
       "                                              choices  correct  statistics  \\\n",
       "84  [1.დედამისი;, 2.დედაჩემის;, 3.დედამისის;, 4.დე...        3         0.0   \n",
       "\n",
       "    times_answered  times_correct_answered  \n",
       "84               0                       0  "
      ]
     },
     "execution_count": 92,
     "metadata": {},
     "output_type": "execute_result"
    }
   ],
   "source": [
    "df.loc[index]"
   ]
  },
  {
   "cell_type": "code",
   "execution_count": 96,
   "id": "f36130d9",
   "metadata": {
    "pycharm": {
     "name": "#%%\n"
    }
   },
   "outputs": [
    {
     "name": "stdout",
     "output_type": "stream",
     "text": [
      "84. შემოხაზეთ სწორი პასუხი:\n",
      "ეს ოთახი არის ნანას დედის.\n",
      "1.დედამისი;\n",
      "2.დედაჩემის;\n",
      "3.დედამისის;\n",
      "4.დედათქვენის.\n",
      "GOOD! correct_answer\n"
     ]
    }
   ],
   "source": [
    "result = ask_question(df, index)\n",
    "ans_process(df, index, result)"
   ]
  },
  {
   "cell_type": "code",
   "execution_count": 97,
   "id": "4d7c3ef5",
   "metadata": {
    "pycharm": {
     "name": "#%%\n"
    }
   },
   "outputs": [
    {
     "data": {
      "text/html": [
       "<div>\n",
       "<style scoped>\n",
       "    .dataframe tbody tr th:only-of-type {\n",
       "        vertical-align: middle;\n",
       "    }\n",
       "\n",
       "    .dataframe tbody tr th {\n",
       "        vertical-align: top;\n",
       "    }\n",
       "\n",
       "    .dataframe thead th {\n",
       "        text-align: right;\n",
       "    }\n",
       "</style>\n",
       "<table border=\"1\" class=\"dataframe\">\n",
       "  <thead>\n",
       "    <tr style=\"text-align: right;\">\n",
       "      <th></th>\n",
       "      <th>question</th>\n",
       "      <th>choices</th>\n",
       "      <th>correct</th>\n",
       "      <th>statistics</th>\n",
       "      <th>times_answered</th>\n",
       "      <th>times_correct_answered</th>\n",
       "    </tr>\n",
       "  </thead>\n",
       "  <tbody>\n",
       "    <tr>\n",
       "      <th>84</th>\n",
       "      <td>84. შემოხაზეთ სწორი პასუხი:\\nეს ოთახი არის ნან...</td>\n",
       "      <td>[1.დედამისი;, 2.დედაჩემის;, 3.დედამისის;, 4.დე...</td>\n",
       "      <td>3</td>\n",
       "      <td>1.0</td>\n",
       "      <td>2</td>\n",
       "      <td>2</td>\n",
       "    </tr>\n",
       "  </tbody>\n",
       "</table>\n",
       "</div>"
      ],
      "text/plain": [
       "                                             question  \\\n",
       "84  84. შემოხაზეთ სწორი პასუხი:\\nეს ოთახი არის ნან...   \n",
       "\n",
       "                                              choices  correct  statistics  \\\n",
       "84  [1.დედამისი;, 2.დედაჩემის;, 3.დედამისის;, 4.დე...        3         1.0   \n",
       "\n",
       "    times_answered  times_correct_answered  \n",
       "84               2                       2  "
      ]
     },
     "execution_count": 97,
     "metadata": {},
     "output_type": "execute_result"
    }
   ],
   "source": [
    "df.loc[index]"
   ]
  },
  {
   "cell_type": "code",
   "execution_count": 58,
   "id": "6ba56126",
   "metadata": {
    "pycharm": {
     "name": "#%%\n"
    }
   },
   "outputs": [],
   "source": [
    "df.to_parquet('db_backup.parquet')"
   ]
  },
  {
   "cell_type": "code",
   "execution_count": 11,
   "id": "31de2db7",
   "metadata": {
    "pycharm": {
     "name": "#%%\n"
    }
   },
   "outputs": [],
   "source": [
    "df = pd.read_parquet('db.parquet')"
   ]
  },
  {
   "cell_type": "code",
   "execution_count": null,
   "id": "86ad6854",
   "metadata": {
    "pycharm": {
     "name": "#%%\n"
    }
   },
   "outputs": [],
   "source": []
  },
  {
   "cell_type": "code",
   "execution_count": null,
   "id": "1cc5f47f",
   "metadata": {
    "pycharm": {
     "name": "#%%\n"
    }
   },
   "outputs": [],
   "source": []
  }
 ],
 "metadata": {
  "kernelspec": {
   "display_name": "Python 3 (ipykernel)",
   "language": "python",
   "name": "python3"
  },
  "language_info": {
   "codemirror_mode": {
    "name": "ipython",
    "version": 3
   },
   "file_extension": ".py",
   "mimetype": "text/x-python",
   "name": "python",
   "nbconvert_exporter": "python",
   "pygments_lexer": "ipython3",
   "version": "3.9.1"
  }
 },
 "nbformat": 4,
 "nbformat_minor": 5
}
